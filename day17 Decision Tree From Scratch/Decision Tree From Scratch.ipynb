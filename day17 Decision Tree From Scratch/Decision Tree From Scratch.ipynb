{
 "cells": [
  {
   "cell_type": "code",
   "execution_count": 1,
   "metadata": {},
   "outputs": [],
   "source": [
    "import numpy as np\n",
    "import pandas as pd"
   ]
  },
  {
   "cell_type": "code",
   "execution_count": 2,
   "metadata": {},
   "outputs": [],
   "source": [
    "def df_split(df, feature, value):\n",
    "    left = df[df[feature]<=value]\n",
    "    right = df[df[feature]>value]\n",
    "    return left, right #(left df, right df)"
   ]
  },
  {
   "cell_type": "code",
   "execution_count": 3,
   "metadata": {},
   "outputs": [],
   "source": [
    "def entropy(a_dict):\n",
    "    s = 0    \n",
    "    for i in a_dict.keys():\n",
    "        pi = a_dict[i]/sum(a_dict.values())\n",
    "        s -= pi * np.log2(pi)\n",
    "    return s"
   ]
  },
  {
   "cell_type": "code",
   "execution_count": 4,
   "metadata": {},
   "outputs": [],
   "source": [
    "#information gain of a dictionary wrt a target feature\n",
    "def infogain(df, parts, target): \n",
    "    dict0 = dict(df[target].value_counts())\n",
    "    dict1 = dict(parts[0][target].value_counts())\n",
    "    dict2 = dict(parts[1][target].value_counts())\n",
    "    s0 = entropy(dict0)\n",
    "    s1 = entropy(dict1)\n",
    "    s2 = entropy(dict2)\n",
    "    return s0-s1*sum(dict1.values())/sum(dict0.values())-s2*sum(dict2.values())/sum(dict0.values())"
   ]
  },
  {
   "cell_type": "code",
   "execution_count": 5,
   "metadata": {},
   "outputs": [],
   "source": [
    "\n",
    "# Best value to split a feature wrt a target feature\n",
    "def best_value_to_split(df, feature, target):    \n",
    "    d = {}\n",
    "    count = 0\n",
    "    summ = 0\n",
    "    for i in range(min(set(df[feature].values)),max(set(df[feature].values))):        \n",
    "        d[i] = infogain(df, df_split(df, feature, i), target)\n",
    "    for key in d.keys():\n",
    "        if d[key] == max(d.values()):\n",
    "            count+=1\n",
    "            summ += key\n",
    "    return summ/count\n",
    "\n",
    "# returns a feature which is best to split on a df and a target\n",
    "def best_feature_to_split(df, target):\n",
    "    l = {}\n",
    "    for i in df.columns:\n",
    "        if i != target:\n",
    "            l[i] = infogain(df, df_split(df, i, best_value_to_split(df, i, target)), target) \n",
    "    for key in l.keys():\n",
    "        if l[key] == max(l.values()):\n",
    "            return key\n",
    "\n",
    "# prints out the leafs of the tree\n",
    "def build_tree(df, target):\n",
    "    feature = best_feature_to_split(df, target)\n",
    "    v1 = best_value_to_split(df, feature, target)\n",
    "    part1, part2 = df_split(df, feature, v1)\n",
    "    ent = entropy(dict(df[target].value_counts()))\n",
    "    samples = len(df.index)\n",
    "    value = dict(df[target].value_counts())\n",
    "    print(feature, v1, ent, samples, len(part1.index), len(part2.index), value)\n",
    "    if entropy(dict(part1[target].value_counts())) == 0.0:\n",
    "        ent1 = entropy(dict(part1[target].value_counts()))\n",
    "        samples1 = len(part1.index)\n",
    "        value1 = dict(part1[target].value_counts())\n",
    "        print (feature, v1, ent1, samples1, value1)\n",
    "    else:\n",
    "        return build_tree(part1, target)\n",
    "    if entropy(dict(part2[target].value_counts())) == 0.0:\n",
    "        ent2 = entropy(dict(part2[target].value_counts()))\n",
    "        samples2 = len(part2.index)\n",
    "        value2 = dict(part2[target].value_counts())\n",
    "        print (feature, v1, ent2, samples2, value2)   \n",
    "    else:\n",
    "        return build_tree(part2, target)\n",
    " "
   ]
  },
  {
   "cell_type": "code",
   "execution_count": 6,
   "metadata": {},
   "outputs": [
    {
     "name": "stdout",
     "output_type": "stream",
     "text": [
      "Age 43.0 0.9940302114769565 11 8 3 {1: 6, 0: 5}\n",
      "Salary 94.5 0.8112781244591328 8 7 1 {1: 6, 0: 2}\n",
      "Age 22.0 0.5916727785823275 7 3 4 {1: 6, 0: 1}\n",
      "Age 18.5 0.9182958340544896 3 2 1 {1: 2, 0: 1}\n",
      "Age 18.5 0.0 2 {1: 2}\n",
      "Age 18.5 0.0 1 {0: 1}\n"
     ]
    }
   ],
   "source": [
    "df = pd.DataFrame({'Age':  [17,64,18,20,38,49,55,25,29,31,33], \n",
    "                      'Salary': [25,80,22,36,37,59,74,70,33,102,88], \n",
    "             'Loan Default': [1,0,1,0,1,0,0,1,1,0,1]})\n",
    "\n",
    "build_tree(df, \"Loan Default\")"
   ]
  },
  {
   "cell_type": "code",
   "execution_count": null,
   "metadata": {},
   "outputs": [],
   "source": []
  }
 ],
 "metadata": {
  "kernelspec": {
   "display_name": "Python 3",
   "language": "python",
   "name": "python3"
  },
  "language_info": {
   "codemirror_mode": {
    "name": "ipython",
    "version": 3
   },
   "file_extension": ".py",
   "mimetype": "text/x-python",
   "name": "python",
   "nbconvert_exporter": "python",
   "pygments_lexer": "ipython3",
   "version": "3.6.4"
  }
 },
 "nbformat": 4,
 "nbformat_minor": 2
}
